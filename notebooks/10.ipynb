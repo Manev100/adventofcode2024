{
 "cells": [
  {
   "cell_type": "markdown",
   "metadata": {},
   "source": [
    "# Topics\n"
   ]
  },
  {
   "cell_type": "code",
   "execution_count": 1,
   "metadata": {},
   "outputs": [],
   "source": [
    "import numpy as np\n",
    "import pandas as pd\n",
    "import math\n",
    "import re\n",
    "import sys\n",
    "from shapely.geometry import Polygon\n",
    "from matplotlib import pyplot as plt\n",
    "from collections import Counter, OrderedDict, namedtuple, defaultdict, ChainMap\n",
    "from queue import Queue\n",
    "from copy import deepcopy\n",
    "import networkx as nx\n",
    "from functools import cmp_to_key, reduce\n",
    "from itertools import product, permutations, combinations, combinations_with_replacement\n",
    "from itertools import repeat\n",
    "from functools import cache\n",
    "from scipy.sparse import csr_matrix\n",
    "from scipy.sparse.csgraph import maximum_flow\n",
    "import json\n",
    "import time\n",
    "from tqdm import tqdm"
   ]
  },
  {
   "cell_type": "code",
   "execution_count": 2,
   "metadata": {},
   "outputs": [],
   "source": [
    "sys.setrecursionlimit(1500)"
   ]
  },
  {
   "cell_type": "code",
   "execution_count": 6,
   "metadata": {},
   "outputs": [
    {
     "data": {
      "text/plain": [
       "'12109832101432101234107652158943210178765892\\n03078456210145696701218943067654396549456701\\n54562364345436789874327832107810387630345210\\n65401875696925210765498017656901234521254321\\n78078956787814321544567328943217890012189450\\n69101045698701055432123410812206921983098765\\n43232132509652566785010569701105435674549056\\n58943001419143478994321678983210304105678143\\n67653214328012988765690787894321213289437212\\n45654301037001089650787096765010034576524301\\n56789890156121072341256101896654123678915498\\n43276765243234561212345234987783210569206789\\n54109854312789870109012345676898765454106543\\n45610123203650105438721056765609674323287012\\n54781010154543216521635489832014589210398013\\n67898543269854107610544376541023008101296323\\n54987656576765678923455210458782112010387456\\n23122189983454989012966904349698103465456567\\n12033078012763210101877813234521098578956798\\n03944565430887654012109320121034787632347897\\n87856556021991047121238458945695698961036016\\n96587432110872338930347567232780087654105125\\n01498983321265427945656089101091109803234934\\n32327465456766016859890176232892256712107843\\n21012334569854105766763245001743343893256765\\n30503129678945234897854632122654872894349854\\n45614068798234012656906543213458961783210703\\n21765878907178723765417891008965450654125612\\n30854965416069654894328982567872342103054503\\n48903010325450560761237813450561003276543678\\n56012321210341981230106504341540214789432189\\n67329630121212870341012415432634345695321012\\n78478742198903965494543326998723456786540765\\n89569653087654654987696547889010567847830874\\n21052104676501723898587032378765676956921923\\n32343015685432810767698121459034982349650010\\n10478723794354903456567030760121061078744567\\n21569654891263212347450177898267877101233498\\n32108765430678903038321789783454978715012399\\n47899834320545676129012876012543269856101087\\n56938723011230983543903965987650156747801256\\n40127619654321012652874854107890349832954343\\n30034508763018723761765543236501212721096501\\n21065619012349654890101234565432301430787432'"
      ]
     },
     "execution_count": 6,
     "metadata": {},
     "output_type": "execute_result"
    }
   ],
   "source": [
    "with open(\"10-input\", \"r\") as file:\n",
    "    lines = file.readlines()\n",
    "data_raw = \"\".join(lines)\n",
    "# data_raw = [line.replace(\"\\n\", \"\") for line in lines]\n",
    "# data_raw = \"\\n\".join(data_raw)\n",
    "data_raw"
   ]
  },
  {
   "cell_type": "code",
   "execution_count": 20,
   "metadata": {},
   "outputs": [
    {
     "data": {
      "text/plain": [
       "array([[8, 9, 0, 1, 0, 1, 2, 3],\n",
       "       [7, 8, 1, 2, 1, 8, 7, 4],\n",
       "       [8, 7, 4, 3, 0, 9, 6, 5],\n",
       "       [9, 6, 5, 4, 9, 8, 7, 4],\n",
       "       [4, 5, 6, 7, 8, 9, 0, 3],\n",
       "       [3, 2, 0, 1, 9, 0, 1, 2],\n",
       "       [0, 1, 3, 2, 9, 8, 0, 1],\n",
       "       [1, 0, 4, 5, 6, 7, 3, 2]])"
      ]
     },
     "metadata": {},
     "output_type": "display_data"
    }
   ],
   "source": [
    "test_data_raw = r\"\"\"89010123\n",
    "78121874\n",
    "87430965\n",
    "96549874\n",
    "45678903\n",
    "32019012\n",
    "01329801\n",
    "10456732\"\"\"\n",
    "\n",
    "test_data_raw2 = r\"\"\"0123\n",
    "1234\n",
    "8765\n",
    "9876\"\"\"\n",
    "\n",
    "def preprocess_data (data):\n",
    "    # dtype='U10'\n",
    "    \n",
    "    # dtype='U10'\n",
    "    rows = [list(row) for row in data.split(\"\\n\")]\n",
    "    return np.array(rows, dtype=int)\n",
    "\n",
    "\n",
    "\n",
    "test_data = preprocess_data(test_data_raw)\n",
    "test_data2 = preprocess_data(test_data_raw2)\n",
    "display(test_data)"
   ]
  },
  {
   "cell_type": "code",
   "execution_count": 7,
   "metadata": {},
   "outputs": [
    {
     "data": {
      "text/plain": [
       "array([[1, 2, 1, ..., 8, 9, 2],\n",
       "       [0, 3, 0, ..., 7, 0, 1],\n",
       "       [5, 4, 5, ..., 2, 1, 0],\n",
       "       ...,\n",
       "       [4, 0, 1, ..., 3, 4, 3],\n",
       "       [3, 0, 0, ..., 5, 0, 1],\n",
       "       [2, 1, 0, ..., 4, 3, 2]])"
      ]
     },
     "execution_count": 7,
     "metadata": {},
     "output_type": "execute_result"
    }
   ],
   "source": [
    "full_data = preprocess_data(data_raw)\n",
    "full_data"
   ]
  },
  {
   "cell_type": "code",
   "execution_count": 40,
   "metadata": {},
   "outputs": [
    {
     "name": "stdout",
     "output_type": "stream",
     "text": [
      "36\n"
     ]
    }
   ],
   "source": [
    "def solution (data, verbose=False):\n",
    "    zeros = np.argwhere(data == 0)\n",
    "    nines = np.argwhere(data == 9)\n",
    "\n",
    "    def isValid(shape : tuple, index : tuple):\n",
    "        return (0 <= index[0] < shape[0] and\n",
    "                0 <= index[1] < shape[1])\n",
    "    \n",
    "    def isNext(array: np.ndarray, source: tuple, target: tuple):\n",
    "        if array[source] == array[target] - 1:\n",
    "            return True\n",
    "        else:\n",
    "            return False\n",
    "    \n",
    "    \n",
    "    def build_dir_graph(array):\n",
    "        graph = dict()\n",
    "        for row in range(array.shape[0]):\n",
    "            for col in range(array.shape[1]):\n",
    "                directions = [(1,0), (-1,0), (0,1), (0,-1)]\n",
    "                next_nodes = [(row+direction[0], col+direction[1])  for direction in directions \n",
    "                                                                        if isValid(array.shape, (row+direction[0], col+direction[1])) \n",
    "                                                                            and isNext(array, (row, col), (row+direction[0], col+direction[1])) ]\n",
    "                if next_nodes:\n",
    "                    graph[(row, col)] = next_nodes\n",
    "        return graph\n",
    "                    \n",
    "    def DFS (graph, array, source):\n",
    "        leafs = []\n",
    "        queue = [source]\n",
    "        \n",
    "        while queue:\n",
    "            next = queue.pop(0)\n",
    "\n",
    "            if next in graph:\n",
    "                queue = graph[next] + queue \n",
    "            elif array[next] == 9:\n",
    "                leafs.append(next)\n",
    "        return leafs\n",
    "                \n",
    "    \n",
    "    \n",
    "    graph = build_dir_graph(data)\n",
    "    total = 0\n",
    "    for start in [tuple(e) for e in zeros.tolist()]:\n",
    "        leafs = DFS (graph, data, start)\n",
    "        total += len(set(leafs))\n",
    "        \n",
    "\n",
    "    return total\n",
    "\n",
    "\n",
    "\n",
    "sol = solution(test_data, verbose=True)\n",
    "\n",
    "print(sol)\n"
   ]
  },
  {
   "cell_type": "code",
   "execution_count": 39,
   "metadata": {},
   "outputs": [
    {
     "name": "stdout",
     "output_type": "stream",
     "text": [
      "582\n"
     ]
    }
   ],
   "source": [
    "sol = solution(full_data)\n",
    "print(sol)"
   ]
  },
  {
   "cell_type": "markdown",
   "metadata": {},
   "source": [
    "# Part 2"
   ]
  },
  {
   "cell_type": "code",
   "execution_count": 43,
   "metadata": {},
   "outputs": [
    {
     "name": "stdout",
     "output_type": "stream",
     "text": [
      "81\n"
     ]
    }
   ],
   "source": [
    "def solution2 (data, verbose=False):\n",
    "\n",
    "    zeros = np.argwhere(data == 0)\n",
    "    nines = np.argwhere(data == 9)\n",
    "\n",
    "    def isValid(shape : tuple, index : tuple):\n",
    "        return (0 <= index[0] < shape[0] and\n",
    "                0 <= index[1] < shape[1])\n",
    "    \n",
    "    def isNext(array: np.ndarray, source: tuple, target: tuple):\n",
    "        if array[source] == array[target] - 1:\n",
    "            return True\n",
    "        else:\n",
    "            return False\n",
    "    \n",
    "    \n",
    "    def build_dir_graph(array):\n",
    "        graph = dict()\n",
    "        for row in range(array.shape[0]):\n",
    "            for col in range(array.shape[1]):\n",
    "                directions = [(1,0), (-1,0), (0,1), (0,-1)]\n",
    "                next_nodes = [(row+direction[0], col+direction[1])  for direction in directions \n",
    "                                                                        if isValid(array.shape, (row+direction[0], col+direction[1])) \n",
    "                                                                            and isNext(array, (row, col), (row+direction[0], col+direction[1])) ]\n",
    "                if next_nodes:\n",
    "                    graph[(row, col)] = next_nodes\n",
    "        return graph\n",
    "                    \n",
    "    def DFS (graph, array, source):\n",
    "        leafs = []\n",
    "        queue = [source]\n",
    "        \n",
    "        while queue:\n",
    "            next = queue.pop(0)\n",
    "\n",
    "            if next in graph:\n",
    "                queue = graph[next] + queue \n",
    "            elif array[next] == 9:\n",
    "                leafs.append(next)\n",
    "        return leafs\n",
    "                \n",
    "    \n",
    "    \n",
    "    graph = build_dir_graph(data)\n",
    "    total = 0\n",
    "    for start in [tuple(e) for e in zeros.tolist()]:\n",
    "        leafs = DFS (graph, data, start)\n",
    "        total += len(leafs)\n",
    "        \n",
    "\n",
    "    return total\n",
    "\n",
    "\n",
    "\n",
    "\n",
    "sol = solution2(test_data, verbose=True)\n",
    "print(sol)\n",
    "    "
   ]
  },
  {
   "cell_type": "code",
   "execution_count": 44,
   "metadata": {},
   "outputs": [
    {
     "name": "stdout",
     "output_type": "stream",
     "text": [
      "1302\n"
     ]
    }
   ],
   "source": [
    "sol = solution2(full_data)\n",
    "print(sol)"
   ]
  },
  {
   "cell_type": "code",
   "execution_count": null,
   "metadata": {},
   "outputs": [],
   "source": []
  }
 ],
 "metadata": {
  "kernelspec": {
   "display_name": ".venv",
   "language": "python",
   "name": "python3"
  },
  "language_info": {
   "codemirror_mode": {
    "name": "ipython",
    "version": 3
   },
   "file_extension": ".py",
   "mimetype": "text/x-python",
   "name": "python",
   "nbconvert_exporter": "python",
   "pygments_lexer": "ipython3",
   "version": "3.11.7"
  },
  "orig_nbformat": 4
 },
 "nbformat": 4,
 "nbformat_minor": 2
}
