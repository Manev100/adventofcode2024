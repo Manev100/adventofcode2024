{
 "cells": [
  {
   "cell_type": "markdown",
   "metadata": {},
   "source": [
    "# Topics\n"
   ]
  },
  {
   "cell_type": "code",
   "execution_count": 88,
   "metadata": {},
   "outputs": [
    {
     "ename": "ModuleNotFoundError",
     "evalue": "No module named 'seaborn'",
     "output_type": "error",
     "traceback": [
      "\u001b[1;31m---------------------------------------------------------------------------\u001b[0m",
      "\u001b[1;31mModuleNotFoundError\u001b[0m                       Traceback (most recent call last)",
      "Cell \u001b[1;32mIn[88], line 8\u001b[0m\n\u001b[0;32m      6\u001b[0m \u001b[38;5;28;01mfrom\u001b[39;00m \u001b[38;5;21;01mshapely\u001b[39;00m\u001b[38;5;21;01m.\u001b[39;00m\u001b[38;5;21;01mgeometry\u001b[39;00m \u001b[38;5;28;01mimport\u001b[39;00m Polygon\n\u001b[0;32m      7\u001b[0m \u001b[38;5;28;01mfrom\u001b[39;00m \u001b[38;5;21;01mmatplotlib\u001b[39;00m \u001b[38;5;28;01mimport\u001b[39;00m pyplot \u001b[38;5;28;01mas\u001b[39;00m plt\n\u001b[1;32m----> 8\u001b[0m \u001b[38;5;28;01mimport\u001b[39;00m \u001b[38;5;21;01mseaborn\u001b[39;00m \u001b[38;5;28;01mas\u001b[39;00m \u001b[38;5;21;01msns\u001b[39;00m\n\u001b[0;32m      9\u001b[0m \u001b[38;5;28;01mfrom\u001b[39;00m \u001b[38;5;21;01mcollections\u001b[39;00m \u001b[38;5;28;01mimport\u001b[39;00m Counter, OrderedDict, namedtuple, defaultdict, ChainMap\n\u001b[0;32m     10\u001b[0m \u001b[38;5;28;01mfrom\u001b[39;00m \u001b[38;5;21;01mqueue\u001b[39;00m \u001b[38;5;28;01mimport\u001b[39;00m Queue\n",
      "\u001b[1;31mModuleNotFoundError\u001b[0m: No module named 'seaborn'"
     ]
    }
   ],
   "source": [
    "import numpy as np\n",
    "import pandas as pd\n",
    "import math\n",
    "import re\n",
    "import sys\n",
    "from shapely.geometry import Polygon\n",
    "from matplotlib import pyplot as plt\n",
    "from collections import Counter, OrderedDict, namedtuple, defaultdict, ChainMap\n",
    "from queue import Queue\n",
    "from copy import deepcopy\n",
    "import networkx as nx\n",
    "from functools import cmp_to_key, reduce\n",
    "from itertools import product, permutations, combinations, combinations_with_replacement\n",
    "from itertools import repeat\n",
    "from functools import cache\n",
    "from scipy.sparse import csr_matrix\n",
    "from scipy.sparse.csgraph import maximum_flow\n",
    "import json\n",
    "import time\n",
    "from z3 import *\n",
    "from tqdm import tqdm"
   ]
  },
  {
   "cell_type": "code",
   "execution_count": 2,
   "metadata": {},
   "outputs": [],
   "source": [
    "sys.setrecursionlimit(1500)"
   ]
  },
  {
   "cell_type": "code",
   "execution_count": 3,
   "metadata": {},
   "outputs": [
    {
     "data": {
      "text/plain": [
       "'Register A: 59397658\\nRegister B: 0\\nRegister C: 0\\n\\nProgram: 2,4,1,1,7,5,4,6,1,4,0,3,5,5,3,0'"
      ]
     },
     "execution_count": 3,
     "metadata": {},
     "output_type": "execute_result"
    }
   ],
   "source": [
    "with open(\"17-input\", \"r\") as file:\n",
    "    lines = file.readlines()\n",
    "data_raw = \"\".join(lines)\n",
    "# data_raw = [line.replace(\"\\n\", \"\") for line in lines]\n",
    "# data_raw = \"\\n\".join(data_raw)\n",
    "data_raw"
   ]
  },
  {
   "cell_type": "code",
   "execution_count": 74,
   "metadata": {},
   "outputs": [
    {
     "data": {
      "text/plain": [
       "([729, 0, 0], [0, 1, 5, 4, 3, 0])"
      ]
     },
     "metadata": {},
     "output_type": "display_data"
    }
   ],
   "source": [
    "test_data_raw = r\"\"\"Register A: 729\n",
    "Register B: 0\n",
    "Register C: 0\n",
    "\n",
    "Program: 0,1,5,4,3,0\"\"\"\n",
    "\n",
    "test_data_raw2 = r\"\"\"Register A: 2024\n",
    "Register B: 0\n",
    "Register C: 0\n",
    "\n",
    "Program: 0,3,5,4,3,0\"\"\"\n",
    "\n",
    "\n",
    "\n",
    "\n",
    "def preprocess_data (data):\n",
    "    registers, program = data.split(\"\\n\\n\")\n",
    "    registers = re.findall(r'-?\\d+', registers)\n",
    "\n",
    "    program = re.findall(r'-?\\d+', program)\n",
    "    return list(map(int, registers)), list(map(int,program)\n",
    ")\n",
    "\n",
    "\n",
    "test_data = preprocess_data(test_data_raw)\n",
    "test_data2 = preprocess_data(test_data_raw2)\n",
    "display(test_data)\n"
   ]
  },
  {
   "cell_type": "code",
   "execution_count": 6,
   "metadata": {},
   "outputs": [
    {
     "data": {
      "text/plain": [
       "([59397658, 0, 0], [2, 4, 1, 1, 7, 5, 4, 6, 1, 4, 0, 3, 5, 5, 3, 0])"
      ]
     },
     "execution_count": 6,
     "metadata": {},
     "output_type": "execute_result"
    }
   ],
   "source": [
    "full_data = preprocess_data(data_raw)\n",
    "full_data"
   ]
  },
  {
   "cell_type": "code",
   "execution_count": 59,
   "metadata": {},
   "outputs": [
    {
     "name": "stdout",
     "output_type": "stream",
     "text": [
      "4,6,3,5,6,3,5,2,1,0\n"
     ]
    }
   ],
   "source": [
    "\n",
    "def solution (data, verbose=False):\n",
    "    program = data[1]\n",
    "    output = []\n",
    "    registers = {\"A\": data[0][0], \"B\": data[0][1], \"C\": data[0][2]}\n",
    "    opcode_desc = {0: \"adv\", 1:\"bxl\", 2: \"bst\", 3: \"jnz\", 4: \"bxc\", 5: \"out\", 6: \"bdv\", 7: \"cdv\"}\n",
    "\n",
    "    Pointer = namedtuple(\"Pointer\", [\"pos\", \"jumped\"])\n",
    "\n",
    "    global pointer\n",
    "    pointer = Pointer(0, False)\n",
    "\n",
    "    def process_operand(operand, r):\n",
    "        if 0 <= operand <= 3:\n",
    "            return operand\n",
    "        elif operand == 4:\n",
    "            return r[\"A\"] \n",
    "        elif operand == 5:\n",
    "            return r[\"B\"] \n",
    "        elif operand == 6:\n",
    "            return r[\"C\"] \n",
    "        elif operand == 7:\n",
    "            raise ValueError(\"Operand 7 not allowed\")\n",
    "\n",
    "    def process_instruction(opcode, operand, r,  o: list):\n",
    "        match opcode:\n",
    "            case 0: # adv\n",
    "                r[\"A\"] = r[\"A\"] // (2 ** process_operand(operand, r))\n",
    "            case 1: # bxl\n",
    "                r[\"B\"] = r[\"B\"] ^ operand\n",
    "            case 2: # bst\n",
    "                r[\"B\"] = process_operand(operand, r) % 8\n",
    "            case 3: # jnz\n",
    "                if r[\"A\"] != 0:\n",
    "                    pointer = Pointer(operand, True)\n",
    "            case 4: # bxc\n",
    "                r[\"B\"] = r[\"B\"] ^ r[\"C\"]\n",
    "            case 5: # out\n",
    "                o.append( process_operand(operand, r) % 8)\n",
    "            case 6: # bdv\n",
    "                r[\"B\"] = r[\"A\"] // (2 ** process_operand(operand, r))\n",
    "            case 7: # cdv\n",
    "                r[\"C\"] = r[\"A\"] // (2 ** process_operand(operand, r))\n",
    "\n",
    "    \n",
    "    \n",
    "\n",
    "    while pointer.pos < len(program):\n",
    "        if pointer.pos % 2 == 1:\n",
    "            raise ValueError(\"Pointer points to operand\")\n",
    "        \n",
    "        opcode = program[pointer.pos]\n",
    "        operand = program[pointer.pos+1]\n",
    "\n",
    "        # print(pointer.pos, opcode_desc[opcode], operand, \"value:\", process_operand(operand, registers))\n",
    "        if opcode != 3:\n",
    "            process_instruction(opcode, operand, registers, output)\n",
    "        elif opcode == 3:\n",
    "            if registers[\"A\"] != 0:\n",
    "                pointer = Pointer(operand, True)\n",
    "        else:\n",
    "            raise ValueError(\"Unknown opcode\")\n",
    "\n",
    "        # print(registers)\n",
    "        if not pointer.jumped:\n",
    "            pointer = Pointer(pointer.pos + 2, False)\n",
    "\n",
    "        pointer = Pointer(pointer.pos, False)\n",
    "\n",
    "    # print(registers)\n",
    "    return \",\".join(list(map(str, output)))\n",
    "\n",
    "\n",
    "# 4,6,3,5,6,3,5,2,1,0\n",
    "sol = solution(test_data, verbose=True)\n",
    "print(sol)\n",
    "\n",
    "\n",
    "\n"
   ]
  },
  {
   "cell_type": "code",
   "execution_count": 60,
   "metadata": {},
   "outputs": [
    {
     "name": "stdout",
     "output_type": "stream",
     "text": [
      "Test 1 successful.\n",
      "Test 2 successful.\n",
      "Test 3 successful.\n",
      "Test 4 successful.\n",
      "Test 5 successful.\n"
     ]
    }
   ],
   "source": [
    "# reg B = 1\n",
    "example1 = r\"\"\"Register A: 729\n",
    "Register B: 0\n",
    "Register C: 9\n",
    "\n",
    "Program: 2,6\"\"\"\n",
    "\n",
    "example2 = r\"\"\"Register A: 10\n",
    "Register B: 0\n",
    "Register C: 0\n",
    "\n",
    "Program: 5,0,5,1,5,4\"\"\"\n",
    "\n",
    "# reg A  = 0\n",
    "example3 = r\"\"\"Register A: 2024\n",
    "Register B: 0\n",
    "Register C: 0\n",
    "\n",
    "Program: 0,1,5,4,3,0\"\"\"\n",
    "\n",
    "# reg B = 26\n",
    "example4 = r\"\"\"Register A: 2024\n",
    "Register B: 29\n",
    "Register C: 0\n",
    "\n",
    "Program: 1,7\"\"\"\n",
    "\n",
    "# reg B = 44354\n",
    "example5 = r\"\"\"Register A: 2024\n",
    "Register B: 2024\n",
    "Register C: 43690\n",
    "\n",
    "Program: 4,0\"\"\"\n",
    "\n",
    "\n",
    "examples = {example1: \"\", example2: \"0,1,2\", example3: \"4,2,5,6,7,7,7,7,3,1,0\", example4: \"\", example5: \"\"}\n",
    "\n",
    "def test_part1(examples):\n",
    "    for idx, (ex, answer) in enumerate(examples.items()):\n",
    "        data_prep = preprocess_data(ex)\n",
    "        try:\n",
    "            sol = solution(data_prep)\n",
    "            if sol != answer:\n",
    "                print(f\"Test example {idx+1} failed.\")\n",
    "            else:\n",
    "                print(f\"Test {idx+1} successful.\")\n",
    "        except:\n",
    "            print(f\"Test {idx+1} invalid\")\n",
    "        \n",
    "    \n",
    "\n",
    "\n",
    "test_part1(examples)"
   ]
  },
  {
   "cell_type": "code",
   "execution_count": 62,
   "metadata": {},
   "outputs": [
    {
     "name": "stdout",
     "output_type": "stream",
     "text": [
      "4,6,1,4,2,1,3,1,6\n"
     ]
    }
   ],
   "source": [
    "sol = solution(full_data)\n",
    "print(sol)"
   ]
  },
  {
   "cell_type": "markdown",
   "metadata": {},
   "source": [
    "# Part 2"
   ]
  },
  {
   "cell_type": "code",
   "execution_count": 162,
   "metadata": {},
   "outputs": [
    {
     "name": "stdout",
     "output_type": "stream",
     "text": [
      "117440\n"
     ]
    }
   ],
   "source": [
    "\n",
    "def solution2 (data, verbose=False):\n",
    "\n",
    "    def prep_output(o):\n",
    "        return \",\".join(list(map(str, o)))\n",
    "\n",
    "    program = data[1]\n",
    "    \n",
    "    registers = {\"A\": data[0][0], \"B\": data[0][1], \"C\": data[0][2]}\n",
    "    opcode_desc = {0: \"adv\", 1:\"bxl\", 2: \"bst\", 3: \"jnz\", 4: \"bxc\", 5: \"out\", 6: \"bdv\", 7: \"cdv\"}\n",
    "\n",
    "    Pointer = namedtuple(\"Pointer\", [\"pos\", \"jumped\"])\n",
    "    \n",
    "    def run_programm(registers, program):\n",
    "        output = []\n",
    "\n",
    "        global pointer\n",
    "        pointer = Pointer(0, False)\n",
    "\n",
    "        def process_operand(operand, r):\n",
    "            if 0 <= operand <= 3:\n",
    "                return operand\n",
    "            elif operand == 4:\n",
    "                return r[\"A\"] \n",
    "            elif operand == 5:\n",
    "                return r[\"B\"] \n",
    "            elif operand == 6:\n",
    "                return r[\"C\"] \n",
    "            elif operand == 7:\n",
    "                raise ValueError(\"Operand 7 not allowed\")\n",
    "\n",
    "        def process_instruction(opcode, operand, r,  o: list):\n",
    "            match opcode:\n",
    "                case 0: # adv\n",
    "                    r[\"A\"] = r[\"A\"] // (2 ** process_operand(operand, r))\n",
    "                case 1: # bxl\n",
    "                    r[\"B\"] = r[\"B\"] ^ operand\n",
    "                case 2: # bst\n",
    "                    r[\"B\"] = process_operand(operand, r) % 8\n",
    "                case 3: # jnz\n",
    "                    if r[\"A\"] != 0:\n",
    "                        pointer = Pointer(operand, True)\n",
    "                case 4: # bxc\n",
    "                    r[\"B\"] = r[\"B\"] ^ r[\"C\"]\n",
    "                case 5: # out\n",
    "                    o.append( process_operand(operand, r) % 8)\n",
    "                case 6: # bdv\n",
    "                    r[\"B\"] = r[\"A\"] // (2 ** process_operand(operand, r))\n",
    "                case 7: # cdv\n",
    "                    r[\"C\"] = r[\"A\"] // (2 ** process_operand(operand, r))\n",
    "\n",
    "        while pointer.pos < len(program):\n",
    "            if pointer.pos % 2 == 1:\n",
    "                raise ValueError(\"Pointer points to operand\")\n",
    "            \n",
    "            opcode = program[pointer.pos]\n",
    "            operand = program[pointer.pos+1]\n",
    "            if opcode != 3:\n",
    "                process_instruction(opcode, operand, registers, output)\n",
    "            elif opcode == 3:\n",
    "                if registers[\"A\"] != 0:\n",
    "                    pointer = Pointer(operand, True)\n",
    "            else:\n",
    "                raise ValueError(\"Unknown opcode\")\n",
    "\n",
    "            if not pointer.jumped:\n",
    "                pointer = Pointer(pointer.pos + 2, False)\n",
    "\n",
    "            pointer = Pointer(pointer.pos, False)\n",
    "        return output\n",
    "\n",
    "\n",
    "    previous_corrects = [0]\n",
    "    for level, num in enumerate(reversed(program)):\n",
    "        correct = []\n",
    "        for start in previous_corrects:\n",
    "            for i in range(8):\n",
    "                val = start*8 + i\n",
    "                registers =  {\"A\": val, \"B\": data[0][1], \"C\": data[0][2]}\n",
    "                output = run_programm(registers, program)\n",
    "                if output[0] == num:\n",
    "                    correct.append(val)\n",
    "        \n",
    "        previous_corrects = correct\n",
    "\n",
    "    return min(previous_corrects)\n",
    "\n",
    "\n",
    "sol = solution2(test_data2, verbose=True)\n",
    "print(sol)"
   ]
  },
  {
   "cell_type": "code",
   "execution_count": 163,
   "metadata": {},
   "outputs": [
    {
     "name": "stdout",
     "output_type": "stream",
     "text": [
      "202366627359274\n"
     ]
    }
   ],
   "source": [
    "# [2, 4, 1, 1, 7, 5, 4, 6, 1, 4, 0, 3, 5, 5, 3, 0]\n",
    "sol = solution2(full_data)\n",
    "print(sol)"
   ]
  },
  {
   "cell_type": "code",
   "execution_count": null,
   "metadata": {},
   "outputs": [],
   "source": []
  }
 ],
 "metadata": {
  "kernelspec": {
   "display_name": ".venv",
   "language": "python",
   "name": "python3"
  },
  "language_info": {
   "codemirror_mode": {
    "name": "ipython",
    "version": 3
   },
   "file_extension": ".py",
   "mimetype": "text/x-python",
   "name": "python",
   "nbconvert_exporter": "python",
   "pygments_lexer": "ipython3",
   "version": "3.11.7"
  },
  "orig_nbformat": 4
 },
 "nbformat": 4,
 "nbformat_minor": 2
}
