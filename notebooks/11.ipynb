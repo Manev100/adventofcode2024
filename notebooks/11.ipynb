{
 "cells": [
  {
   "cell_type": "markdown",
   "metadata": {},
   "source": [
    "# Topics\n"
   ]
  },
  {
   "cell_type": "code",
   "execution_count": 1,
   "metadata": {},
   "outputs": [],
   "source": [
    "import numpy as np\n",
    "import pandas as pd\n",
    "import math\n",
    "import re\n",
    "import sys\n",
    "from shapely.geometry import Polygon\n",
    "from matplotlib import pyplot as plt\n",
    "from collections import Counter, OrderedDict, namedtuple, defaultdict, ChainMap\n",
    "from queue import Queue\n",
    "from copy import deepcopy\n",
    "import networkx as nx\n",
    "from functools import cmp_to_key, reduce\n",
    "from itertools import product, permutations, combinations, combinations_with_replacement\n",
    "from itertools import repeat\n",
    "from functools import cache\n",
    "from scipy.sparse import csr_matrix\n",
    "from scipy.sparse.csgraph import maximum_flow\n",
    "import json\n",
    "import time\n",
    "from tqdm import tqdm"
   ]
  },
  {
   "cell_type": "code",
   "execution_count": 2,
   "metadata": {},
   "outputs": [],
   "source": [
    "sys.setrecursionlimit(1500)"
   ]
  },
  {
   "cell_type": "code",
   "execution_count": 3,
   "metadata": {},
   "outputs": [
    {
     "data": {
      "text/plain": [
       "'4610211 4 0 59 3907 201586 929 33750'"
      ]
     },
     "execution_count": 3,
     "metadata": {},
     "output_type": "execute_result"
    }
   ],
   "source": [
    "with open(\"11-input\", \"r\") as file:\n",
    "    lines = file.readlines()\n",
    "data_raw = \"\".join(lines)\n",
    "# data_raw = [line.replace(\"\\n\", \"\") for line in lines]\n",
    "# data_raw = \"\\n\".join(data_raw)\n",
    "data_raw"
   ]
  },
  {
   "cell_type": "code",
   "execution_count": 8,
   "metadata": {},
   "outputs": [
    {
     "data": {
      "text/plain": [
       "[125, 17]"
      ]
     },
     "metadata": {},
     "output_type": "display_data"
    }
   ],
   "source": [
    "test_data_raw = r\"\"\"125 17\"\"\"\n",
    "\n",
    "# test_data_raw2 = r\"\"\"0123\n",
    "# 1234\n",
    "# 8765\n",
    "# 9876\"\"\"\n",
    "\n",
    "def preprocess_data (data):\n",
    "    # dtype='U10'\n",
    "    \n",
    "    # dtype='U10'\n",
    "    rows = [int(stone) for stone in data.split(\" \")]\n",
    "    return rows\n",
    "\n",
    "\n",
    "\n",
    "test_data = preprocess_data(test_data_raw)\n",
    "# test_data2 = preprocess_data(test_data_raw2)\n",
    "display(test_data)"
   ]
  },
  {
   "cell_type": "code",
   "execution_count": 9,
   "metadata": {},
   "outputs": [
    {
     "data": {
      "text/plain": [
       "[4610211, 4, 0, 59, 3907, 201586, 929, 33750]"
      ]
     },
     "execution_count": 9,
     "metadata": {},
     "output_type": "execute_result"
    }
   ],
   "source": [
    "full_data = preprocess_data(data_raw)\n",
    "full_data"
   ]
  },
  {
   "cell_type": "code",
   "execution_count": 12,
   "metadata": {},
   "outputs": [
    {
     "name": "stdout",
     "output_type": "stream",
     "text": [
      "55312\n"
     ]
    }
   ],
   "source": [
    "def solution (data, verbose=False):\n",
    "    \n",
    "\n",
    "    max_blinks = 25\n",
    "\n",
    "    def manual_step(stones, steps):\n",
    "        current_stones = stones.copy()\n",
    "        for step in range(steps):\n",
    "            next_stones = []\n",
    "            for stone in current_stones:\n",
    "                if stone == 0:\n",
    "                    next_stones.append(1)\n",
    "                elif len(str(stone)) % 2 == 0:\n",
    "                    stone_s = str(stone)\n",
    "                    next_stones.append(int(stone_s[:len(stone_s)//2]))\n",
    "                    next_stones.append(int(stone_s[len(stone_s)//2:]))\n",
    "                else:\n",
    "                    next_stones.append(stone*2024)\n",
    "                current_stones = next_stones\n",
    "        return next_stones\n",
    "\n",
    "    lookup_dict = {i: [] for i in range(10)}\n",
    "    for i in range(10):\n",
    "        next_stones = [i]\n",
    "        for step in range(max_blinks):\n",
    "            next_stones = manual_step(next_stones, 1)\n",
    "            lookup_dict[i].append(len(next_stones))\n",
    "\n",
    "    # print(lookup_dict)\n",
    "\n",
    "\n",
    "    def optim_step(stones, steps):\n",
    "        current_stones = stones.copy()\n",
    "        total_count = 0\n",
    "        for step in range(steps):\n",
    "            next_stones = []\n",
    "            for stone in current_stones:\n",
    "                if stone < 10:\n",
    "                    steps_to_go = steps - step\n",
    "                    total_count += lookup_dict[stone][steps_to_go-1]\n",
    "\n",
    "                elif len(str(stone)) % 2 == 0:\n",
    "                    stone_s = str(stone)\n",
    "                    next_stones.append(int(stone_s[:len(stone_s)//2]))\n",
    "                    next_stones.append(int(stone_s[len(stone_s)//2:]))\n",
    "                else:\n",
    "                    next_stones.append(stone*2024)\n",
    "                current_stones = next_stones\n",
    "        return total_count + len(current_stones)\n",
    "\n",
    "    # print(optim_step(data, 6))\n",
    "    # print(optim_step(data, 25))\n",
    "        \n",
    "\n",
    "    return optim_step(data, 25)\n",
    "\n",
    "\n",
    "\n",
    "sol = solution(test_data, verbose=True)\n",
    "\n",
    "print(sol)\n"
   ]
  },
  {
   "cell_type": "code",
   "execution_count": 13,
   "metadata": {},
   "outputs": [
    {
     "name": "stdout",
     "output_type": "stream",
     "text": [
      "197357\n"
     ]
    }
   ],
   "source": [
    "sol = solution(full_data)\n",
    "print(sol)"
   ]
  },
  {
   "cell_type": "markdown",
   "metadata": {},
   "source": [
    "# Part 2"
   ]
  },
  {
   "cell_type": "code",
   "execution_count": 52,
   "metadata": {},
   "outputs": [
    {
     "name": "stderr",
     "output_type": "stream",
     "text": [
      "100%|██████████| 75/75 [00:00<?, ?it/s]\n",
      "100%|██████████| 75/75 [00:00<00:00, 18745.77it/s]"
     ]
    },
    {
     "name": "stdout",
     "output_type": "stream",
     "text": [
      "65601038650482\n"
     ]
    },
    {
     "name": "stderr",
     "output_type": "stream",
     "text": [
      "\n"
     ]
    }
   ],
   "source": [
    "def solution2 (data, verbose=False):\n",
    "\n",
    "    max_blinks = 75\n",
    "\n",
    "    def next_stones (stone):\n",
    "        if stone == 0:\n",
    "            return [1]\n",
    "        elif len(str(stone)) % 2 == 0:\n",
    "            stone_s = str(stone)\n",
    "            return [int(stone_s[:len(stone_s)//2]), int(stone_s[len(stone_s)//2:])]\n",
    "        else:\n",
    "            return [stone*2024]\n",
    "    \n",
    "    current_stones = data.copy()\n",
    "    next_stones_memory = {}\n",
    "    already_seen = data.copy()\n",
    "    for step in tqdm(range(max_blinks)): \n",
    "        step_stones = []\n",
    "        for stone in current_stones:\n",
    "            if type(stone) == tuple:\n",
    "                step_stones.append((stone[0], stone[1]+1))\n",
    "            else:\n",
    "                 \n",
    "                if stone in next_stones_memory:\n",
    "                    sub_stones = next_stones_memory[stone]\n",
    "                else:\n",
    "                    sub_stones = next_stones(stone)\n",
    "                    next_stones_memory[stone] = sub_stones\n",
    "                \n",
    "                for sub_stone in sub_stones:\n",
    "                    if sub_stone in already_seen:\n",
    "                        step_stones.append((sub_stone, 1))\n",
    "                    else:\n",
    "                        already_seen.append(sub_stone)\n",
    "                        step_stones.append(sub_stone)\n",
    "\n",
    "        \n",
    "        current_stones = step_stones\n",
    "    \n",
    "    memory = {(stone,0): 1  for stone in already_seen}\n",
    "    for step in tqdm(range(1, max_blinks+1)): \n",
    "        for stone in already_seen:\n",
    "            memory[(stone, step)] = sum([memory[(sub_stone, step-1)] for sub_stone in next_stones_memory[stone] ])\n",
    "            \n",
    "    return sum([memory[(stone, max_blinks)] for stone in data])\n",
    "\n",
    "\n",
    "\n",
    "\n",
    "sol = solution2(test_data, verbose=True)\n",
    "print(sol)\n",
    "    "
   ]
  },
  {
   "cell_type": "code",
   "execution_count": 53,
   "metadata": {},
   "outputs": [
    {
     "name": "stderr",
     "output_type": "stream",
     "text": [
      "100%|██████████| 75/75 [00:00<00:00, 937.53it/s]\n",
      "100%|██████████| 75/75 [00:00<00:00, 369.46it/s]"
     ]
    },
    {
     "name": "stdout",
     "output_type": "stream",
     "text": [
      "234568186890978\n"
     ]
    },
    {
     "name": "stderr",
     "output_type": "stream",
     "text": [
      "\n"
     ]
    }
   ],
   "source": [
    "sol = solution2(full_data)\n",
    "print(sol)"
   ]
  },
  {
   "cell_type": "code",
   "execution_count": null,
   "metadata": {},
   "outputs": [],
   "source": []
  }
 ],
 "metadata": {
  "kernelspec": {
   "display_name": ".venv",
   "language": "python",
   "name": "python3"
  },
  "language_info": {
   "codemirror_mode": {
    "name": "ipython",
    "version": 3
   },
   "file_extension": ".py",
   "mimetype": "text/x-python",
   "name": "python",
   "nbconvert_exporter": "python",
   "pygments_lexer": "ipython3",
   "version": "3.11.7"
  },
  "orig_nbformat": 4
 },
 "nbformat": 4,
 "nbformat_minor": 2
}
