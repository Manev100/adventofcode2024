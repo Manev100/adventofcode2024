{
 "cells": [
  {
   "cell_type": "markdown",
   "metadata": {},
   "source": [
    "# Data Reading"
   ]
  },
  {
   "cell_type": "code",
   "execution_count": null,
   "metadata": {},
   "outputs": [],
   "source": [
    "# Read in Block data as numpy array\n",
    "def preprocess_data (data):\n",
    "    # dtype='U10'\n",
    "    rows = [list(row) for row in data.split(\"\\n\")]\n",
    "    return np.array(rows, dtype='U10')"
   ]
  }
 ],
 "metadata": {
  "language_info": {
   "name": "python"
  }
 },
 "nbformat": 4,
 "nbformat_minor": 2
}
