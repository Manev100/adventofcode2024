{
 "cells": [
  {
   "cell_type": "markdown",
   "metadata": {},
   "source": [
    "# Data Reading"
   ]
  },
  {
   "cell_type": "code",
   "execution_count": null,
   "metadata": {},
   "outputs": [],
   "source": [
    "# Read in Block data as numpy array\n",
    "def preprocess_data (data):\n",
    "    # dtype='U10'\n",
    "    rows = [list(row) for row in data.split(\"\\n\")]\n",
    "    return np.array(rows, dtype='U10')"
   ]
  },
  {
   "cell_type": "markdown",
   "metadata": {},
   "source": [
    "# Numpy Snippets"
   ]
  },
  {
   "cell_type": "code",
   "execution_count": null,
   "metadata": {},
   "outputs": [],
   "source": [
    "# check if index is in bounds of array\n",
    "def isValid(shape : tuple, index : tuple):\n",
    "    return (0 <= index[0] < shape[0] and\n",
    "            0 <= index[1] < shape[1] and\n",
    "            0 <= index[2] < shape[2])"
   ]
  }
 ],
 "metadata": {
  "language_info": {
   "name": "python"
  }
 },
 "nbformat": 4,
 "nbformat_minor": 2
}
