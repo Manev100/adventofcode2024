{
 "cells": [
  {
   "cell_type": "markdown",
   "metadata": {},
   "source": [
    "# Data Reading"
   ]
  },
  {
   "cell_type": "code",
   "execution_count": null,
   "metadata": {},
   "outputs": [],
   "source": [
    "# Read in Block data as numpy array\n",
    "def preprocess_data (data):\n",
    "    # dtype='U10'\n",
    "    rows = [list(row) for row in data.split(\"\\n\")]\n",
    "    return np.array(rows, dtype='U10')"
   ]
  },
  {
   "cell_type": "markdown",
   "metadata": {},
   "source": [
    "# Numpy Snippets"
   ]
  },
  {
   "cell_type": "code",
   "execution_count": null,
   "metadata": {},
   "outputs": [],
   "source": [
    "# check if index is in bounds of array\n",
    "def isValid(shape : tuple, index : tuple):\n",
    "    return (0 <= index[0] < shape[0] and\n",
    "            0 <= index[1] < shape[1] and\n",
    "            0 <= index[2] < shape[2])"
   ]
  },
  {
   "cell_type": "markdown",
   "metadata": {},
   "source": [
    "# Python Stuff"
   ]
  },
  {
   "cell_type": "code",
   "execution_count": null,
   "metadata": {},
   "outputs": [],
   "source": [
    "Info = namedtuple(\"Info\", [\"id\", \"len\", \"low\", \"high\"])\n",
    "info = Info( 1,2,3,4)\n",
    "info.id"
   ]
  },
  {
   "cell_type": "markdown",
   "metadata": {},
   "source": [
    "# Directed Graphs and DFS"
   ]
  },
  {
   "cell_type": "code",
   "execution_count": null,
   "metadata": {},
   "outputs": [],
   "source": [
    "zeros = np.argwhere(data == 0)\n",
    "nines = np.argwhere(data == 9)\n",
    "\n",
    "print(data)\n",
    "# index in bounds\n",
    "def isValid(shape : tuple, index : tuple):\n",
    "    return (0 <= index[0] < shape[0] and\n",
    "            0 <= index[1] < shape[1])\n",
    "\n",
    "# Edge constraint in input \n",
    "def isNext(array: np.ndarray, source: tuple, target: tuple):\n",
    "    if array[source] == array[target] - 1:\n",
    "        return True\n",
    "    else:\n",
    "        return False\n",
    "\n",
    "\n",
    "def build_dir_graph(array):\n",
    "    graph = dict()\n",
    "    for row in range(array.shape[0]):\n",
    "        for col in range(array.shape[1]):\n",
    "            # look for edges in 4 directions\n",
    "            directions = [(1,0), (-1,0), (0,1), (0,-1)]\n",
    "            next_nodes = [(row+direction[0], col+direction[1])  for direction in directions \n",
    "                                                                    if isValid(array.shape, (row+direction[0], col+direction[1])) \n",
    "                                                                        and isNext(array, (row, col), (row+direction[0], col+direction[1])) ]\n",
    "            if next_nodes:\n",
    "                graph[(row, col)] = next_nodes\n",
    "    return graph\n",
    "                \n",
    "def DFS (graph, array, source):\n",
    "    leafs = []\n",
    "    queue = [source]\n",
    "    \n",
    "    while queue:\n",
    "        next = queue.pop(0)\n",
    "\n",
    "        # print(next)\n",
    "        # array_2 = array.copy()\n",
    "        # array_2[next] = -1\n",
    "        # print(array_2)\n",
    "        \n",
    "        # Add more nodes\n",
    "        if next in graph:\n",
    "            queue = graph[next] + queue \n",
    "        # Leaf constraint \n",
    "        elif array[next] == 9:\n",
    "            leafs.append(next)\n",
    "            # print(\"leaf!\")\n",
    "        else:\n",
    "            pass\n",
    "            # print(\"Leaf but not 9\")\n",
    "    return leafs\n",
    "            \n",
    "\n",
    "\n",
    "graph = build_dir_graph(data)\n",
    "print(graph)\n",
    "total = 0\n",
    "for start in [tuple(e) for e in zeros.tolist()]:\n",
    "    leafs = DFS (graph, data, start)\n",
    "    total += len(leafs)\n",
    "    print(leafs)\n",
    "    \n",
    "\n",
    "return total"
   ]
  }
 ],
 "metadata": {
  "language_info": {
   "name": "python"
  }
 },
 "nbformat": 4,
 "nbformat_minor": 2
}
